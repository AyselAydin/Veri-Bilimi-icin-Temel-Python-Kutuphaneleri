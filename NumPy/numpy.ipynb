{
 "cells": [
  {
   "cell_type": "markdown",
   "metadata": {},
   "source": [
    "* NumPy (Numerical Python) çok boyutlu diziler ve matrislerle çalışmamızı sağlayan, bilimsel hesaplamaları hızlı bir şekilde yapmamızı sağlayan bir matematik kütüphanesidir.\n",
    "* NumPy geleneksel Python listelerinden 50 kata kadar daha hızlıdır.\n",
    "* Python listlerinden farklı olarak NumPy dizileri homojen yapıda olmalıdır yani dizi içindeki tüm elemanlar aynı veri tipinde olmalıdır.\n",
    "* Codebase olarak kısmen Python’da yazılmıştır ancak hızlı hesaplama gerektiren kısımların çoğu C ya da C++ ile yazılmıştır."
   ]
  },
  {
   "cell_type": "markdown",
   "metadata": {},
   "source": [
    "NumPy kütüphanesi Python dilinin doğrudan bir parçası değildir. Bu yüzden ayrıca kurulması ve program içerisinde tanımlanması yani import edilmesi gerekmektedir.\n",
    "\n",
    "pip install numpy"
   ]
  },
  {
   "cell_type": "code",
   "execution_count": 35,
   "metadata": {},
   "outputs": [],
   "source": [
    "import numpy as np"
   ]
  },
  {
   "cell_type": "markdown",
   "metadata": {},
   "source": [
    "NumPy, daha çok dizilerle çalışmak amacıyla kullanılır. NumPy’daki dizi nesnesine ndarray adı verilir. Array() fonksiyonu kullanılarak bir NumPy ndarray nesnesi oluşturulur."
   ]
  },
  {
   "cell_type": "code",
   "execution_count": 36,
   "metadata": {},
   "outputs": [
    {
     "name": "stdout",
     "output_type": "stream",
     "text": [
      "[1 2 4 5 6 7]\n"
     ]
    }
   ],
   "source": [
    "nd_array = np.array([1,2,4,5,6,7])\n",
    "print(nd_array)"
   ]
  },
  {
   "cell_type": "markdown",
   "metadata": {},
   "source": [
    "Bu şekilde bir liste üzerinden ndarray oluşturmuş olduk. Liste gibi tuple, set üzerinden de bir dizi oluşturabiliriz."
   ]
  },
  {
   "cell_type": "code",
   "execution_count": null,
   "metadata": {},
   "outputs": [],
   "source": [
    "tuple_nd = np.array((1,2,4,5,6,7))\n",
    "print(nd_array)"
   ]
  },
  {
   "cell_type": "markdown",
   "metadata": {},
   "source": [
    "**Dizilerde Boyutlar**\n",
    "\n",
    "**0-D Diziler** -> İçerisinde tek bir değerin bulunduğudizilerdir."
   ]
  },
  {
   "cell_type": "code",
   "execution_count": 5,
   "metadata": {},
   "outputs": [
    {
     "name": "stdout",
     "output_type": "stream",
     "text": [
      "57\n"
     ]
    }
   ],
   "source": [
    "nd_array = np.array(57)\n",
    "print(nd_array)"
   ]
  },
  {
   "cell_type": "markdown",
   "metadata": {},
   "source": [
    "**1-D Diziler** -> Elemanları 0-D dizileri olan tek boyutlu dizilerdir. Yaygın olarak kullanılan dizilerdir."
   ]
  },
  {
   "cell_type": "code",
   "execution_count": 6,
   "metadata": {},
   "outputs": [
    {
     "name": "stdout",
     "output_type": "stream",
     "text": [
      "[1 2 3 4 5 7]\n"
     ]
    }
   ],
   "source": [
    "nd_array = np.array([1,2,3,4,5,7])\n",
    "print(nd_array)"
   ]
  },
  {
   "cell_type": "markdown",
   "metadata": {},
   "source": [
    "**2-D Diziler** -> Elemanları 1-D dizileri olan dizilerdir."
   ]
  },
  {
   "cell_type": "code",
   "execution_count": 7,
   "metadata": {},
   "outputs": [
    {
     "name": "stdout",
     "output_type": "stream",
     "text": [
      "[[1 2 3 4 5 7]\n",
      " [2 3 4 5 6 7]]\n"
     ]
    }
   ],
   "source": [
    "nd_array = np.array([[1,2,3,4,5,7], [2,3,4,5,6,7]])\n",
    "print(nd_array)"
   ]
  },
  {
   "cell_type": "markdown",
   "metadata": {},
   "source": [
    "**3-D Diziler** -> Elemanları 2-D dizileri olan dizilerdir."
   ]
  },
  {
   "cell_type": "code",
   "execution_count": 8,
   "metadata": {},
   "outputs": [
    {
     "name": "stdout",
     "output_type": "stream",
     "text": [
      "[[[1 2 3 4 5 7]\n",
      "  [2 3 4 5 6 7]]\n",
      "\n",
      " [[1 2 3 4 5 7]\n",
      "  [2 3 4 5 6 7]]]\n"
     ]
    }
   ],
   "source": [
    "nd_array = np.array([[[1,2,3,4,5,7], [2,3,4,5,6,7]], [[1,2,3,4,5,7], [2,3,4,5,6,7]]])\n",
    "print(nd_array)"
   ]
  },
  {
   "cell_type": "markdown",
   "metadata": {},
   "source": [
    "**Çok Boyutlu Diziler** -> Bir dizinin herhangi bir sayıda boyutu olabilir. Dizi oluşturulurken ndmin bağımsız değişkenini kullanarak boyut sayısını tanımlayabiliriz."
   ]
  },
  {
   "cell_type": "code",
   "execution_count": 9,
   "metadata": {},
   "outputs": [
    {
     "name": "stdout",
     "output_type": "stream",
     "text": [
      "[[1 2 3 4 5 7]]\n"
     ]
    }
   ],
   "source": [
    "nd_array = np.array([1,2,3,4,5,7], ndmin=2)\n",
    "print(nd_array)"
   ]
  },
  {
   "cell_type": "markdown",
   "metadata": {},
   "source": [
    "**Boyut Sayısını Bulma**\n",
    "\n",
    "**ndim** özelliği ile bir dizinin kaç boyuta sahip olduğu bilgisini alabiliriz."
   ]
  },
  {
   "cell_type": "code",
   "execution_count": 10,
   "metadata": {},
   "outputs": [
    {
     "name": "stdout",
     "output_type": "stream",
     "text": [
      "0\n",
      "1\n",
      "2\n",
      "3\n"
     ]
    }
   ],
   "source": [
    "nd = np.array(57)\n",
    "nd_1d = np.array([1,2,3])\n",
    "nd_2d = np.array([[1,2,3,7], [2,3,4,7]])\n",
    "nd_3d = np.array([[[1,2,5,7], [2,3,6,7]], [[3,4,5,7], [2,3,4,5]]])\n",
    "print(nd.ndim)\n",
    "print(nd_1d.ndim)\n",
    "print(nd_2d.ndim)\n",
    "print(nd_3d.ndim)"
   ]
  },
  {
   "cell_type": "markdown",
   "metadata": {},
   "source": [
    "**Dizinin satır ve sütun sayısını bulmak**\n",
    "\n",
    "NumPy array nesnesinin kaç satır ve sütundan oluştuğunu .shape ile öğrenebiliriz. Dönüş olarak bir tuple nesnesi döndürür."
   ]
  },
  {
   "cell_type": "code",
   "execution_count": 11,
   "metadata": {},
   "outputs": [
    {
     "name": "stdout",
     "output_type": "stream",
     "text": [
      "1 boyutlu olan dizi   (6,)\n",
      "2 boyutlu olan dizi   (2, 6)\n"
     ]
    }
   ],
   "source": [
    "nd_1d = np.array([1,2,3,4,5,7])\n",
    "nd_2d = np.array([[1,2,3,4,5,7], [2,3,4,5,6,7]])\n",
    "print(\"1 boyutlu olan dizi  \", nd_1d.shape)\n",
    "print(\"2 boyutlu olan dizi  \", nd_2d.shape)"
   ]
  },
  {
   "cell_type": "markdown",
   "metadata": {},
   "source": [
    "**Dizinin satır ve sütun sayısını değiştirmek**\n",
    "\n",
    "NumPy array’i yeniden şekillendirmek istediğimizde yani satır ve sütun sayısını değiştirmek istediğimizde .reshape metodunu kullanırız."
   ]
  },
  {
   "cell_type": "code",
   "execution_count": 15,
   "metadata": {},
   "outputs": [
    {
     "name": "stdout",
     "output_type": "stream",
     "text": [
      "[0 1 2 3 4 5 6 7 8 9]\n"
     ]
    }
   ],
   "source": [
    "nd_array = np.array([0, 1, 2, 3, 4, 5, 6, 7, 8, 9])\n",
    "print(nd_array)"
   ]
  },
  {
   "cell_type": "code",
   "execution_count": 16,
   "metadata": {},
   "outputs": [
    {
     "name": "stdout",
     "output_type": "stream",
     "text": [
      "[[0 1]\n",
      " [2 3]\n",
      " [4 5]\n",
      " [6 7]\n",
      " [8 9]]\n"
     ]
    }
   ],
   "source": [
    "print(nd_array.reshape(5, 2))"
   ]
  },
  {
   "cell_type": "markdown",
   "metadata": {},
   "source": [
    "Başlangıçta numpy_array nesnemizin şekline baktığımızda(10,) olduğunu görüyoruz ve bu bize numpy_array nesnemizin tek boyutlu bir vektör olduğunu belirtir. reshape(5, 2) metodunu kullandığımızda ise artık numpy_array nesnemiz 5 satır ve 2 sütundan oluşan 5x2 lik 2 boyutlu bir matrise dönüşmüştür."
   ]
  },
  {
   "cell_type": "markdown",
   "metadata": {},
   "source": [
    "**np.arange()**\n",
    "\n",
    "Python’daki range() fonksiyonuna benzer. Belirtilen başlangıç değerinden başlayıp, her seferinde adım sayısı kadar arttırarak, bitiş değerine kadar olan sayıları bulunduran bir numpy dizisi döndürür.\n",
    "\n",
    "**np.arange(başlangıç, bitiş, adım sayısı)**\n",
    "\n",
    "* Başlangıç değeri belirtilmezse varsayılan değer 0 kabul edilir.\n",
    "* Bitiş değeri belirtilmezse dizinin uzunluğu varsayılan bitiş değeri kabul edilir.\n",
    "* Basamak değeri belirtilmezse varsayılan değer 1 kabul edilir."
   ]
  },
  {
   "cell_type": "code",
   "execution_count": 17,
   "metadata": {},
   "outputs": [
    {
     "name": "stdout",
     "output_type": "stream",
     "text": [
      "[0 2 4 6 8]\n"
     ]
    }
   ],
   "source": [
    "nd_array = np.arange(0, 10, 2)\n",
    "print(nd_array)"
   ]
  },
  {
   "cell_type": "markdown",
   "metadata": {},
   "source": [
    "**Dizi Elemanlarına Erişim**\n",
    "\n",
    "*-* NumPy dizi elemanlarına indexler üzerinden erişiriz."
   ]
  },
  {
   "cell_type": "code",
   "execution_count": 18,
   "metadata": {},
   "outputs": [
    {
     "name": "stdout",
     "output_type": "stream",
     "text": [
      "4\n"
     ]
    }
   ],
   "source": [
    "nd_array = np.array([1,2,3,4,5,7])\n",
    "print(nd_array[3])"
   ]
  },
  {
   "cell_type": "markdown",
   "metadata": {},
   "source": [
    "2 boyutlu olan bir dizide elemanlara erişelim"
   ]
  },
  {
   "cell_type": "code",
   "execution_count": 19,
   "metadata": {},
   "outputs": [
    {
     "name": "stdout",
     "output_type": "stream",
     "text": [
      "5\n"
     ]
    }
   ],
   "source": [
    "nd_array = np.array([[1,2,3,4,5,7], [2,3,4,5,6,7]])\n",
    "print(nd_array[1, 3])"
   ]
  },
  {
   "cell_type": "markdown",
   "metadata": {},
   "source": [
    "Listelerdeki gibi burada da negatif indexleme yapabiliriz."
   ]
  },
  {
   "cell_type": "code",
   "execution_count": 20,
   "metadata": {},
   "outputs": [
    {
     "name": "stdout",
     "output_type": "stream",
     "text": [
      "7\n"
     ]
    }
   ],
   "source": [
    "print(nd_array[1, -1])"
   ]
  },
  {
   "cell_type": "markdown",
   "metadata": {},
   "source": [
    "3 boyutlu olan bir dizide elemanlara erişelim\n",
    "\n",
    "3 boyutlu dizilerde elemanlara erişmek için, elemanın boyutlarını ve dizinini temsil eden virgülle ayrılmış tamsayılar kullanabiliriz."
   ]
  },
  {
   "cell_type": "code",
   "execution_count": 21,
   "metadata": {},
   "outputs": [
    {
     "name": "stdout",
     "output_type": "stream",
     "text": [
      "6\n"
     ]
    }
   ],
   "source": [
    "nd = np.array([[[1, 2, 3], [4, 5, 6]], [[7, 8, 9], [10, 11, 12]]])\n",
    "print(nd[0, 1, 2])"
   ]
  },
  {
   "cell_type": "markdown",
   "metadata": {},
   "source": [
    "**NumPy Slicing**\n",
    "\n",
    "NumPy’da slicing, belirli bir indeksten belirli bir indekse kadar olan elemanları almak için kullanılır.\n",
    "\n",
    "**[başlangıç, bitiş, adım sayısı]**\n",
    "\n",
    "* Başlangıç değeri belirtilmezse varsayılan değer 0 kabul edilir.\n",
    "* Bitiş değeri belirtilmezse dizinin uzunluğu varsayılan bitiş değeri kabul edilir.\n",
    "* Basamak değeri belirtilmezse varsayılan değer 1 kabul edilir."
   ]
  },
  {
   "cell_type": "code",
   "execution_count": 22,
   "metadata": {},
   "outputs": [
    {
     "name": "stdout",
     "output_type": "stream",
     "text": [
      "[1 2 3 4]\n"
     ]
    }
   ],
   "source": [
    "nd_1d = np.array([1,2,3,4,5,7])\n",
    "print(nd_1d[:4])"
   ]
  },
  {
   "cell_type": "code",
   "execution_count": 23,
   "metadata": {},
   "outputs": [
    {
     "name": "stdout",
     "output_type": "stream",
     "text": [
      "[[4 5 7]\n",
      " [5 6 7]]\n"
     ]
    }
   ],
   "source": [
    "nd_2d = np.array([[3,4,5,7], [2,5,6,7], [6,7,4,3]])\n",
    "print(nd_2d[0:2, 1:4])"
   ]
  },
  {
   "cell_type": "markdown",
   "metadata": {},
   "source": [
    "**Dizilerde Veri Tipi**\n",
    "\n",
    "dtype ile dizinin veri türünü öğreniriz."
   ]
  },
  {
   "cell_type": "code",
   "execution_count": 24,
   "metadata": {},
   "outputs": [
    {
     "name": "stdout",
     "output_type": "stream",
     "text": [
      "int32\n"
     ]
    }
   ],
   "source": [
    "nd = np.array([1,2,3,4,5,7])\n",
    "print(nd.dtype)"
   ]
  },
  {
   "cell_type": "markdown",
   "metadata": {},
   "source": [
    "İstediğimiz boyutu eklemek için ndmin kullanıyorduk. Burada da istediğimiz veri tipini dizi elemanlarını oluştururken verebiliriz.\n",
    "\n",
    "Yeni bir NumPy dizisi oluşturulduğunda, en uygun veri tipi NumPy tarafından seçilir. Ancak istenirse belirli bir veri tipi seçeneği verilebilir."
   ]
  },
  {
   "cell_type": "code",
   "execution_count": 25,
   "metadata": {},
   "outputs": [
    {
     "name": "stdout",
     "output_type": "stream",
     "text": [
      "[1 2 3 4 5 7]\n",
      "int32\n"
     ]
    }
   ],
   "source": [
    "nd_array = np.array([1.2, 2.3, 3.3], dtype=\"i\")\n",
    "print(nd_1d)\n",
    "print(nd_1d.dtype)"
   ]
  },
  {
   "cell_type": "markdown",
   "metadata": {},
   "source": [
    "np.zeros()\n",
    "\n",
    "Bu fonksiyon belirtilen satır ve sütuna sahip 0'lardan oluşan bir matris döndürür."
   ]
  },
  {
   "cell_type": "code",
   "execution_count": 48,
   "metadata": {},
   "outputs": [
    {
     "name": "stdout",
     "output_type": "stream",
     "text": [
      "[[0. 0. 0.]\n",
      " [0. 0. 0.]]\n"
     ]
    }
   ],
   "source": [
    "print(np.zeros(2, 3))"
   ]
  },
  {
   "cell_type": "markdown",
   "metadata": {},
   "source": [
    "np.ones()\n",
    "\n",
    "zeros() fonksiyonuna benzer şekilde verilen büyüklükte 1'lerden oluşan bir matris döndürür."
   ]
  },
  {
   "cell_type": "code",
   "execution_count": 51,
   "metadata": {},
   "outputs": [
    {
     "name": "stdout",
     "output_type": "stream",
     "text": [
      "[[1. 1. 1.]\n",
      " [1. 1. 1.]]\n"
     ]
    }
   ],
   "source": [
    "print(np.ones(2, 3))"
   ]
  },
  {
   "cell_type": "markdown",
   "metadata": {},
   "source": [
    "np.eye()\n",
    "\n",
    "Belirlenen boyutlarda birim matris oluşturmamızı sağlar."
   ]
  },
  {
   "cell_type": "code",
   "execution_count": 53,
   "metadata": {},
   "outputs": [
    {
     "name": "stdout",
     "output_type": "stream",
     "text": [
      "[[1. 0. 0.]\n",
      " [0. 1. 0.]\n",
      " [0. 0. 1.]]\n"
     ]
    }
   ],
   "source": [
    "print(np.eye(3, 3))"
   ]
  },
  {
   "cell_type": "markdown",
   "metadata": {},
   "source": [
    "np.random()\n",
    "\n",
    "İstenilen boyutta bir dizin oluşturur ve bu dizini 0 ve 1 aralığında üretilmiş rastgele ondalık sayılar ile doldurur."
   ]
  },
  {
   "cell_type": "code",
   "execution_count": 38,
   "metadata": {},
   "outputs": [
    {
     "name": "stdout",
     "output_type": "stream",
     "text": [
      "[[0.77993657 0.97214158]\n",
      " [0.70732021 0.57933361]\n",
      " [0.33036706 0.36846497]]\n"
     ]
    }
   ],
   "source": [
    "nd = np.random.random((3, 2))\n",
    "print(nd)"
   ]
  },
  {
   "cell_type": "markdown",
   "metadata": {},
   "source": [
    "linspace()\n",
    "\n",
    "İki değer arasında eşit oranlı olacak şekilde değerler oluşturmak için kullanılır."
   ]
  },
  {
   "cell_type": "code",
   "execution_count": 54,
   "metadata": {},
   "outputs": [
    {
     "name": "stdout",
     "output_type": "stream",
     "text": [
      "[5.   5.25 5.5  5.75 6.  ]\n"
     ]
    }
   ],
   "source": [
    "nd = np.linspace(5, 6, num=5)\n",
    "print(nd)"
   ]
  },
  {
   "cell_type": "markdown",
   "metadata": {},
   "source": [
    "Bu şekilde eşit aralıklarla istediğimiz iki sayı arasında istediğimiz sayıda elemandan oluşan bir dizi oluşturmuş olduk. Burada ardışık elemanlar arasındaki fark hepsinde aynıdır 0.25 oranında artmaktadır."
   ]
  },
  {
   "cell_type": "markdown",
   "metadata": {},
   "source": [
    "Burada num kullanmadan da yazabiliriz."
   ]
  },
  {
   "cell_type": "code",
   "execution_count": 55,
   "metadata": {},
   "outputs": [
    {
     "name": "stdout",
     "output_type": "stream",
     "text": [
      "[5.   5.25 5.5  5.75 6.  ]\n"
     ]
    }
   ],
   "source": [
    "nd = np.linspace(5, 6, 5)\n",
    "print(nd)"
   ]
  },
  {
   "cell_type": "markdown",
   "metadata": {},
   "source": [
    "Burada belirlenen iki sayı arasında eşit aralıklarla elemanları oluştururken fark ettiğiniz gibi bitiş değerini de dahildir. Eğer dahil edilmesini istemiyorsak endpoint=False ekleyerek dahil etmeyebiliriz."
   ]
  },
  {
   "cell_type": "code",
   "execution_count": 56,
   "metadata": {},
   "outputs": [
    {
     "name": "stdout",
     "output_type": "stream",
     "text": [
      "[5.  5.2 5.4 5.6 5.8]\n"
     ]
    }
   ],
   "source": [
    "nd = np.linspace(5, 6, 5, endpoint=False)\n",
    "print(nd)"
   ]
  },
  {
   "cell_type": "markdown",
   "metadata": {},
   "source": [
    "full()\n",
    "\n",
    "Oluşturulacak dizinin elemanlarını aynı eleman ile doldurmak istediğimizde kullanırız. İlk parametrede kaça kaç olacağı ikinci parametrede de hangi değerle dolduracağımız bilgisini veririz."
   ]
  },
  {
   "cell_type": "code",
   "execution_count": 57,
   "metadata": {},
   "outputs": [
    {
     "name": "stdout",
     "output_type": "stream",
     "text": [
      "[[7 7 7]\n",
      " [7 7 7]]\n"
     ]
    }
   ],
   "source": [
    "nd = np.full((2, 3), 7)\n",
    "print(nd)"
   ]
  },
  {
   "cell_type": "markdown",
   "metadata": {},
   "source": [
    "all()\n",
    "\n",
    "Tüm elemanların verilen şartı sağlayıp sağlamadığını kontrol etmek için kullanılır."
   ]
  },
  {
   "cell_type": "code",
   "execution_count": 58,
   "metadata": {},
   "outputs": [
    {
     "data": {
      "text/plain": [
       "False"
      ]
     },
     "execution_count": 58,
     "metadata": {},
     "output_type": "execute_result"
    }
   ],
   "source": [
    "nd = np.array([1,2,3])\n",
    "np.all(nd < -1)"
   ]
  },
  {
   "cell_type": "markdown",
   "metadata": {},
   "source": [
    "any()\n",
    "\n",
    "Herhangi bir eleman verilen şartı sağlıyor mu diye kontrol etmek için kullanılır."
   ]
  },
  {
   "cell_type": "code",
   "execution_count": 59,
   "metadata": {},
   "outputs": [
    {
     "data": {
      "text/plain": [
       "True"
      ]
     },
     "execution_count": 59,
     "metadata": {},
     "output_type": "execute_result"
    }
   ],
   "source": [
    "nd = np.array([1,-2,3])\n",
    "np.any(nd < -1)"
   ]
  },
  {
   "cell_type": "markdown",
   "metadata": {},
   "source": [
    "**Matrisleri birleştirmek**\n",
    "\n",
    "İki numpy array nesnesini concatenate metodu ile birleştiririz."
   ]
  },
  {
   "cell_type": "code",
   "execution_count": 60,
   "metadata": {},
   "outputs": [
    {
     "name": "stdout",
     "output_type": "stream",
     "text": [
      "[1 2 3 4 5 6]\n"
     ]
    }
   ],
   "source": [
    "nd1 = np.array([1,2,3])\n",
    "nd2 = np.array([4,5,6])\n",
    "nd3 = np.concatenate([nd1, nd2])\n",
    "print(nd3)"
   ]
  },
  {
   "cell_type": "markdown",
   "metadata": {},
   "source": [
    "İki numpy array nesnesini birleştirdiğimiz gibi bir liste ile de birleştirebiliriz. Ayrıca ikiden fazla değeri de birleştirebiliriz."
   ]
  },
  {
   "cell_type": "code",
   "execution_count": 61,
   "metadata": {},
   "outputs": [
    {
     "name": "stdout",
     "output_type": "stream",
     "text": [
      "[1 2 3 4 5 6 1 2 3 4 5]\n"
     ]
    }
   ],
   "source": [
    "nd1 = np.array([1,2,3])\n",
    "nd2 = np.array([4,5,6])\n",
    "liste = [1,2,3,4,5]\n",
    "nd3 = np.concatenate([nd1, nd2, liste])\n",
    "print(nd3)"
   ]
  },
  {
   "cell_type": "markdown",
   "metadata": {},
   "source": [
    "Integer değerlerden oluşan bir numpy arrayine içinde string ya da float olan bir liste ile birleştirirsek yeni oluşan numpy array o veri tipinde olacaktır."
   ]
  },
  {
   "cell_type": "code",
   "execution_count": 62,
   "metadata": {},
   "outputs": [
    {
     "name": "stdout",
     "output_type": "stream",
     "text": [
      "[1.  2.  3.  5.  6.  4.5]\n",
      "float64\n"
     ]
    }
   ],
   "source": [
    "nd1 = np.array([1, 2, 3])\n",
    "liste = [5, 6, 4.5]\n",
    "nd2 = np.concatenate([nd1, liste])\n",
    "print(nd2)\n",
    "print(nd2.dtype)"
   ]
  },
  {
   "cell_type": "markdown",
   "metadata": {},
   "source": [
    "Satır sütun bazında birleştirme"
   ]
  },
  {
   "cell_type": "code",
   "execution_count": 63,
   "metadata": {},
   "outputs": [
    {
     "name": "stdout",
     "output_type": "stream",
     "text": [
      "[[0 1 2 3 4]\n",
      " [5 6 7 8 9]\n",
      " [0 1 2 3 4]\n",
      " [5 6 7 8 9]]\n"
     ]
    }
   ],
   "source": [
    "nd1 = np.arange(0, 10)\n",
    "nd1 = nd1.reshape(2, 5)\n",
    "#Satır bazlı birleştirme\n",
    "print(np.concatenate([nd1, nd1]))"
   ]
  },
  {
   "cell_type": "code",
   "execution_count": 64,
   "metadata": {},
   "outputs": [
    {
     "name": "stdout",
     "output_type": "stream",
     "text": [
      "[[0 1 2 3 4 0 1 2 3 4]\n",
      " [5 6 7 8 9 5 6 7 8 9]]\n"
     ]
    }
   ],
   "source": [
    "#Sütun bazlı birleştirme\n",
    "print(np.concatenate([nd1, nd1], axis = 1))"
   ]
  },
  {
   "cell_type": "markdown",
   "metadata": {},
   "source": [
    "axis eklenmediği durumlarda default 0 kabul edilir ve satır bazlı birleştirme işlemi yapılır. axis = 1 sütun bazlı birleştirme işlemi yapar."
   ]
  },
  {
   "cell_type": "markdown",
   "metadata": {},
   "source": [
    "NumPy ile Matematiksel İşlemler\n",
    "* sum\n",
    "* max\n",
    "* min\n",
    "* mean\n",
    "* median\n",
    "* varyans\n",
    "* standart sapma"
   ]
  },
  {
   "cell_type": "code",
   "execution_count": 65,
   "metadata": {},
   "outputs": [],
   "source": [
    "numpy_array = np.array([0,1, 2, 3, 4, 5, 6, 7, 8, 9])\n",
    "numpy_array = numpy_array.reshape(5,2)"
   ]
  },
  {
   "cell_type": "markdown",
   "metadata": {},
   "source": [
    "sum()"
   ]
  },
  {
   "cell_type": "code",
   "execution_count": 67,
   "metadata": {},
   "outputs": [
    {
     "name": "stdout",
     "output_type": "stream",
     "text": [
      "45\n",
      "Satır bazlı toplama:  [ 1  5  9 13 17]\n",
      "Sütun bazlı toplama:  [20 25]\n"
     ]
    }
   ],
   "source": [
    "print(numpy_array.sum())\n",
    "print(\"Satır bazlı toplama: \", numpy_array.sum(axis = 1))\n",
    "print(\"Sütun bazlı toplama: \", numpy_array.sum(axis = 0))"
   ]
  },
  {
   "cell_type": "markdown",
   "metadata": {},
   "source": [
    "max()"
   ]
  },
  {
   "cell_type": "code",
   "execution_count": 68,
   "metadata": {},
   "outputs": [
    {
     "name": "stdout",
     "output_type": "stream",
     "text": [
      "9\n"
     ]
    }
   ],
   "source": [
    "print(numpy_array.max())"
   ]
  },
  {
   "cell_type": "markdown",
   "metadata": {},
   "source": [
    "min()"
   ]
  },
  {
   "cell_type": "code",
   "execution_count": 69,
   "metadata": {},
   "outputs": [
    {
     "name": "stdout",
     "output_type": "stream",
     "text": [
      "0\n"
     ]
    }
   ],
   "source": [
    "print(numpy_array.min())"
   ]
  },
  {
   "cell_type": "markdown",
   "metadata": {},
   "source": [
    "mean()\n",
    "\n",
    "Dizinin ortalama değeridir."
   ]
  },
  {
   "cell_type": "code",
   "execution_count": 70,
   "metadata": {},
   "outputs": [
    {
     "name": "stdout",
     "output_type": "stream",
     "text": [
      "4.5\n"
     ]
    }
   ],
   "source": [
    "print(numpy_array.mean())"
   ]
  },
  {
   "cell_type": "markdown",
   "metadata": {},
   "source": [
    "standart sapma\n",
    "\n",
    "Veri değerlerinin ortalamadan ne kadar uzak olduğunun ölçüsüdür. Standart sapma bize dağılımın yaygınlığı hakkında bilgi verir. Normal şartlarda standart sapmayı bulmak için sayıların aritmetik ortalaması bulunur. Her bir sayı aritmetik ortalamadan çıkarılır ve sonucun karesi alınır. Bu kareler toplanır ve toplam serinin eleman sayısının 1 eksiğine bölünür. Bu sonucun karekökü alınır. Standart sapmayı bulmak için bu işlemleri yapmamız gerekir fakat NumPy kütüphanesi np.std() fonksiyonuyla arka planda bu işlemleri yapar ve sonucu bize getirir."
   ]
  },
  {
   "cell_type": "code",
   "execution_count": 71,
   "metadata": {},
   "outputs": [
    {
     "name": "stdout",
     "output_type": "stream",
     "text": [
      "2.8722813232690143\n"
     ]
    }
   ],
   "source": [
    "print(numpy_array.std())"
   ]
  },
  {
   "cell_type": "markdown",
   "metadata": {},
   "source": [
    "varyans\n",
    "\n",
    "Standart sapmanın karesidir."
   ]
  },
  {
   "cell_type": "code",
   "execution_count": 72,
   "metadata": {},
   "outputs": [
    {
     "name": "stdout",
     "output_type": "stream",
     "text": [
      "8.25\n"
     ]
    }
   ],
   "source": [
    "print(numpy_array.var())"
   ]
  },
  {
   "cell_type": "markdown",
   "metadata": {},
   "source": [
    "Varyans ve standart sapma veri setinde ortalama üzerinden karar veremeyeceğimiz durumlarda bize yardımcı olur."
   ]
  },
  {
   "cell_type": "markdown",
   "metadata": {},
   "source": [
    "**Aritmetik işlemler**\n",
    "\n",
    "Aritmetik işlemleri yaparken unutulmaması gereken nokta işlem yapılacak matrislerin satır ve sütun sayılarının eşit olması gerekiyor."
   ]
  },
  {
   "cell_type": "code",
   "execution_count": 73,
   "metadata": {},
   "outputs": [
    {
     "name": "stdout",
     "output_type": "stream",
     "text": [
      "[[ 6  8]\n",
      " [10 12]]\n"
     ]
    }
   ],
   "source": [
    "nd1 = np.array([[1, 2], [3, 4]])\n",
    "nd2 = np.array([[5, 6], [7, 8]])\n",
    "\n",
    "#Toplama\n",
    "print(nd1 + nd2) #np.add(nd1, nd2) aynı işlevde"
   ]
  },
  {
   "cell_type": "code",
   "execution_count": 74,
   "metadata": {},
   "outputs": [
    {
     "name": "stdout",
     "output_type": "stream",
     "text": [
      "[[4 4]\n",
      " [4 4]]\n"
     ]
    }
   ],
   "source": [
    "#Çıkarma\n",
    "print(nd2 - nd1)   #np.subtract(nd2, nd1) aynı işlevde"
   ]
  },
  {
   "cell_type": "code",
   "execution_count": 75,
   "metadata": {},
   "outputs": [
    {
     "name": "stdout",
     "output_type": "stream",
     "text": [
      "[[ 5 12]\n",
      " [21 32]]\n"
     ]
    }
   ],
   "source": [
    "#Çarpma\n",
    "print(nd2 * nd1)   #np.multiply(nd2, nd1) aynı işlevde"
   ]
  },
  {
   "cell_type": "code",
   "execution_count": 76,
   "metadata": {},
   "outputs": [
    {
     "name": "stdout",
     "output_type": "stream",
     "text": [
      "[[5.         3.        ]\n",
      " [2.33333333 2.        ]]\n"
     ]
    }
   ],
   "source": [
    "#Bölme\n",
    "print(nd2 / nd1)   #np.divide(nd2, nd1) aynı işlevde"
   ]
  },
  {
   "cell_type": "markdown",
   "metadata": {},
   "source": [
    "İki matrisle işlem yaptığımız gibi matris elemanları üzerinde de istediğimiz sayı ile işlem yapabiliriz."
   ]
  },
  {
   "cell_type": "code",
   "execution_count": 77,
   "metadata": {},
   "outputs": [
    {
     "name": "stdout",
     "output_type": "stream",
     "text": [
      "[[ 7  8]\n",
      " [ 9 10]]\n"
     ]
    }
   ],
   "source": [
    "print(nd2 + 2) #Tüm elemanlara 2 ekledi"
   ]
  },
  {
   "cell_type": "markdown",
   "metadata": {},
   "source": [
    "NumPy toplama, çıkarma gibi basit dört işlemin yanısıra trigonometrik, logaritmik, üstel fonksiyonlar.. gibi daha kompleks fonksiyonlarla da çalışma imkanı sağlar."
   ]
  },
  {
   "cell_type": "markdown",
   "metadata": {},
   "source": [
    "**Matrislerin Çarpımı**\n",
    "\n",
    "Matris çarpımı için dot fonksiyonunu kullanırız. İki matris çarpılırken ilk matrisin sütun sayısının ikinci matrisin satır sayısına eşit olması gerekiyor."
   ]
  },
  {
   "cell_type": "code",
   "execution_count": 78,
   "metadata": {},
   "outputs": [
    {
     "name": "stdout",
     "output_type": "stream",
     "text": [
      "[[  5   6   7   8   9]\n",
      " [ 15  20  25  30  35]\n",
      " [ 25  34  43  52  61]\n",
      " [ 35  48  61  74  87]\n",
      " [ 45  62  79  96 113]]\n"
     ]
    }
   ],
   "source": [
    "nd = np.array([0,1, 2, 3, 4, 5, 6, 7, 8, 9])\n",
    "nd1 = nd.reshape(5,2)\n",
    "nd2 = nd.reshape(2,5)\n",
    "print(np.dot(nd1, nd2))"
   ]
  },
  {
   "cell_type": "markdown",
   "metadata": {},
   "source": [
    "**Matrisin Transpozu**\n",
    "\n",
    "Matrisin satırlarını sütun, sütunlarını satır yapma işlemi numpy ile “ .T” yazmak kadar kolay."
   ]
  },
  {
   "cell_type": "code",
   "execution_count": 79,
   "metadata": {},
   "outputs": [
    {
     "name": "stdout",
     "output_type": "stream",
     "text": [
      "[[0 1]\n",
      " [2 3]\n",
      " [4 5]\n",
      " [6 7]\n",
      " [8 9]]\n",
      "[[0 2 4 6 8]\n",
      " [1 3 5 7 9]]\n"
     ]
    }
   ],
   "source": [
    "nd = np.array([0,1, 2, 3, 4, 5, 6, 7, 8, 9])\n",
    "nd = nd.reshape(5,2)\n",
    "print(nd)\n",
    "print(nd.T)"
   ]
  }
 ],
 "metadata": {
  "kernelspec": {
   "display_name": "Python 3.8.5 ('base')",
   "language": "python",
   "name": "python3"
  },
  "language_info": {
   "codemirror_mode": {
    "name": "ipython",
    "version": 3
   },
   "file_extension": ".py",
   "mimetype": "text/x-python",
   "name": "python",
   "nbconvert_exporter": "python",
   "pygments_lexer": "ipython3",
   "version": "3.8.5"
  },
  "orig_nbformat": 4,
  "vscode": {
   "interpreter": {
    "hash": "85849ef95885899d47daeff0f578b9f8af82a26ba4d539bff16a3c227f835db9"
   }
  }
 },
 "nbformat": 4,
 "nbformat_minor": 2
}
