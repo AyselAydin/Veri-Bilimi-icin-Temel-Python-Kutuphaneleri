{
 "cells": [
  {
   "cell_type": "markdown",
   "metadata": {},
   "source": [
    "#### **String İşlemleri**\n",
    "\n",
    "# ![title](text.png)"
   ]
  },
  {
   "cell_type": "markdown",
   "metadata": {},
   "source": [
    "titanic.csv dosyasındaki yolcu isimleri üzerinde;\n",
    "\n",
    "* Büyük, küçük harf\n",
    "* Noktalama işaretlerini temizleme\n",
    "* Sayıları kaldırma\n",
    "* Duplicate verileri kaldırma\n",
    "* Replace\n",
    "* Contains\n",
    "\n",
    "işlemlerini yapıyor olacağız."
   ]
  },
  {
   "cell_type": "code",
   "execution_count": 4,
   "metadata": {},
   "outputs": [
    {
     "data": {
      "text/html": [
       "<div>\n",
       "<style scoped>\n",
       "    .dataframe tbody tr th:only-of-type {\n",
       "        vertical-align: middle;\n",
       "    }\n",
       "\n",
       "    .dataframe tbody tr th {\n",
       "        vertical-align: top;\n",
       "    }\n",
       "\n",
       "    .dataframe thead th {\n",
       "        text-align: right;\n",
       "    }\n",
       "</style>\n",
       "<table border=\"1\" class=\"dataframe\">\n",
       "  <thead>\n",
       "    <tr style=\"text-align: right;\">\n",
       "      <th></th>\n",
       "      <th>Name</th>\n",
       "    </tr>\n",
       "  </thead>\n",
       "  <tbody>\n",
       "    <tr>\n",
       "      <th>0</th>\n",
       "      <td>Braund, Mr. Owen Harris</td>\n",
       "    </tr>\n",
       "    <tr>\n",
       "      <th>1</th>\n",
       "      <td>Cumings, Mrs. John Bradley (Florence Briggs Th...</td>\n",
       "    </tr>\n",
       "    <tr>\n",
       "      <th>2</th>\n",
       "      <td>Heikkinen, Miss. Laina</td>\n",
       "    </tr>\n",
       "    <tr>\n",
       "      <th>3</th>\n",
       "      <td>Futrelle, Mrs. Jacques Heath (Lily May Peel)</td>\n",
       "    </tr>\n",
       "    <tr>\n",
       "      <th>4</th>\n",
       "      <td>Allen, Mr. William Henry</td>\n",
       "    </tr>\n",
       "  </tbody>\n",
       "</table>\n",
       "</div>"
      ],
      "text/plain": [
       "                                                Name\n",
       "0                            Braund, Mr. Owen Harris\n",
       "1  Cumings, Mrs. John Bradley (Florence Briggs Th...\n",
       "2                             Heikkinen, Miss. Laina\n",
       "3       Futrelle, Mrs. Jacques Heath (Lily May Peel)\n",
       "4                           Allen, Mr. William Henry"
      ]
     },
     "execution_count": 4,
     "metadata": {},
     "output_type": "execute_result"
    }
   ],
   "source": [
    "import pandas as pd\n",
    "\n",
    "df = pd.read_csv(r\"..\\Data\\titanic.csv\", usecols=[\"Name\"])\n",
    "\n",
    "df.head()"
   ]
  },
  {
   "cell_type": "markdown",
   "metadata": {},
   "source": [
    "Veri setimizde ilk olarak yolcu isimlerini büyük ve küçük şekilde listeleyelim."
   ]
  },
  {
   "cell_type": "code",
   "execution_count": 5,
   "metadata": {},
   "outputs": [
    {
     "data": {
      "text/plain": [
       "0                                BRAUND, MR. OWEN HARRIS\n",
       "1      CUMINGS, MRS. JOHN BRADLEY (FLORENCE BRIGGS TH...\n",
       "2                                 HEIKKINEN, MISS. LAINA\n",
       "3           FUTRELLE, MRS. JACQUES HEATH (LILY MAY PEEL)\n",
       "4                               ALLEN, MR. WILLIAM HENRY\n",
       "                             ...                        \n",
       "886                                MONTVILA, REV. JUOZAS\n",
       "887                         GRAHAM, MISS. MARGARET EDITH\n",
       "888             JOHNSTON, MISS. CATHERINE HELEN \"CARRIE\"\n",
       "889                                BEHR, MR. KARL HOWELL\n",
       "890                                  DOOLEY, MR. PATRICK\n",
       "Name: Name, Length: 891, dtype: object"
      ]
     },
     "execution_count": 5,
     "metadata": {},
     "output_type": "execute_result"
    }
   ],
   "source": [
    "df.Name.str.upper()"
   ]
  },
  {
   "cell_type": "code",
   "execution_count": 6,
   "metadata": {},
   "outputs": [
    {
     "data": {
      "text/plain": [
       "0                                braund, mr. owen harris\n",
       "1      cumings, mrs. john bradley (florence briggs th...\n",
       "2                                 heikkinen, miss. laina\n",
       "3           futrelle, mrs. jacques heath (lily may peel)\n",
       "4                               allen, mr. william henry\n",
       "                             ...                        \n",
       "886                                montvila, rev. juozas\n",
       "887                         graham, miss. margaret edith\n",
       "888             johnston, miss. catherine helen \"carrie\"\n",
       "889                                behr, mr. karl howell\n",
       "890                                  dooley, mr. patrick\n",
       "Name: Name, Length: 891, dtype: object"
      ]
     },
     "execution_count": 6,
     "metadata": {},
     "output_type": "execute_result"
    }
   ],
   "source": [
    "df.Name.str.lower()"
   ]
  },
  {
   "cell_type": "markdown",
   "metadata": {},
   "source": [
    "Yolcu isimleri içerisinde geçen noktalama işaretlerini kaldıralım. Bu işlem için öncelikle **remove_punc** adında bir fonksiyon tanımlayıp ardından **apply** metodu ile isim sütununa uygulayalım. İşlenmiş datayı da **pre_name** adında yeni bir sütuna atıyoruz."
   ]
  },
  {
   "cell_type": "code",
   "execution_count": 7,
   "metadata": {},
   "outputs": [
    {
     "data": {
      "text/html": [
       "<div>\n",
       "<style scoped>\n",
       "    .dataframe tbody tr th:only-of-type {\n",
       "        vertical-align: middle;\n",
       "    }\n",
       "\n",
       "    .dataframe tbody tr th {\n",
       "        vertical-align: top;\n",
       "    }\n",
       "\n",
       "    .dataframe thead th {\n",
       "        text-align: right;\n",
       "    }\n",
       "</style>\n",
       "<table border=\"1\" class=\"dataframe\">\n",
       "  <thead>\n",
       "    <tr style=\"text-align: right;\">\n",
       "      <th></th>\n",
       "      <th>Name</th>\n",
       "      <th>pre_name</th>\n",
       "    </tr>\n",
       "  </thead>\n",
       "  <tbody>\n",
       "    <tr>\n",
       "      <th>0</th>\n",
       "      <td>Braund, Mr. Owen Harris</td>\n",
       "      <td>Braund Mr Owen Harris</td>\n",
       "    </tr>\n",
       "    <tr>\n",
       "      <th>1</th>\n",
       "      <td>Cumings, Mrs. John Bradley (Florence Briggs Th...</td>\n",
       "      <td>Cumings Mrs John Bradley Florence Briggs Thayer</td>\n",
       "    </tr>\n",
       "    <tr>\n",
       "      <th>2</th>\n",
       "      <td>Heikkinen, Miss. Laina</td>\n",
       "      <td>Heikkinen Miss Laina</td>\n",
       "    </tr>\n",
       "    <tr>\n",
       "      <th>3</th>\n",
       "      <td>Futrelle, Mrs. Jacques Heath (Lily May Peel)</td>\n",
       "      <td>Futrelle Mrs Jacques Heath Lily May Peel</td>\n",
       "    </tr>\n",
       "    <tr>\n",
       "      <th>4</th>\n",
       "      <td>Allen, Mr. William Henry</td>\n",
       "      <td>Allen Mr William Henry</td>\n",
       "    </tr>\n",
       "  </tbody>\n",
       "</table>\n",
       "</div>"
      ],
      "text/plain": [
       "                                                Name  \\\n",
       "0                            Braund, Mr. Owen Harris   \n",
       "1  Cumings, Mrs. John Bradley (Florence Briggs Th...   \n",
       "2                             Heikkinen, Miss. Laina   \n",
       "3       Futrelle, Mrs. Jacques Heath (Lily May Peel)   \n",
       "4                           Allen, Mr. William Henry   \n",
       "\n",
       "                                          pre_name  \n",
       "0                            Braund Mr Owen Harris  \n",
       "1  Cumings Mrs John Bradley Florence Briggs Thayer  \n",
       "2                             Heikkinen Miss Laina  \n",
       "3         Futrelle Mrs Jacques Heath Lily May Peel  \n",
       "4                           Allen Mr William Henry  "
      ]
     },
     "execution_count": 7,
     "metadata": {},
     "output_type": "execute_result"
    }
   ],
   "source": [
    "import string\n",
    "\n",
    "def remove_punc(name):\n",
    "    text = name.translate(name.maketrans(\"\",\"\", string.punctuation))\n",
    "\n",
    "    return text\n",
    "\n",
    "df[\"pre_name\"] = df.Name.apply(remove_punc)\n",
    "\n",
    "df.head()"
   ]
  },
  {
   "cell_type": "markdown",
   "metadata": {},
   "source": [
    "Text içerisinde yer alan sayıları kaldırma işlemini yapalım."
   ]
  },
  {
   "cell_type": "code",
   "execution_count": 8,
   "metadata": {},
   "outputs": [
    {
     "name": "stderr",
     "output_type": "stream",
     "text": [
      "C:\\Users\\TCAYSAYDIN\\AppData\\Local\\Temp\\ipykernel_26872\\377403931.py:1: FutureWarning: The default value of regex will change from True to False in a future version.\n",
      "  df[\"pre_name\"] = df.pre_name.str.lower().str.replace('\\d', '')\n"
     ]
    },
    {
     "data": {
      "text/html": [
       "<div>\n",
       "<style scoped>\n",
       "    .dataframe tbody tr th:only-of-type {\n",
       "        vertical-align: middle;\n",
       "    }\n",
       "\n",
       "    .dataframe tbody tr th {\n",
       "        vertical-align: top;\n",
       "    }\n",
       "\n",
       "    .dataframe thead th {\n",
       "        text-align: right;\n",
       "    }\n",
       "</style>\n",
       "<table border=\"1\" class=\"dataframe\">\n",
       "  <thead>\n",
       "    <tr style=\"text-align: right;\">\n",
       "      <th></th>\n",
       "      <th>Name</th>\n",
       "      <th>pre_name</th>\n",
       "    </tr>\n",
       "  </thead>\n",
       "  <tbody>\n",
       "    <tr>\n",
       "      <th>0</th>\n",
       "      <td>Braund, Mr. Owen Harris</td>\n",
       "      <td>braund mr owen harris</td>\n",
       "    </tr>\n",
       "    <tr>\n",
       "      <th>1</th>\n",
       "      <td>Cumings, Mrs. John Bradley (Florence Briggs Th...</td>\n",
       "      <td>cumings mrs john bradley florence briggs thayer</td>\n",
       "    </tr>\n",
       "    <tr>\n",
       "      <th>2</th>\n",
       "      <td>Heikkinen, Miss. Laina</td>\n",
       "      <td>heikkinen miss laina</td>\n",
       "    </tr>\n",
       "    <tr>\n",
       "      <th>3</th>\n",
       "      <td>Futrelle, Mrs. Jacques Heath (Lily May Peel)</td>\n",
       "      <td>futrelle mrs jacques heath lily may peel</td>\n",
       "    </tr>\n",
       "    <tr>\n",
       "      <th>4</th>\n",
       "      <td>Allen, Mr. William Henry</td>\n",
       "      <td>allen mr william henry</td>\n",
       "    </tr>\n",
       "  </tbody>\n",
       "</table>\n",
       "</div>"
      ],
      "text/plain": [
       "                                                Name  \\\n",
       "0                            Braund, Mr. Owen Harris   \n",
       "1  Cumings, Mrs. John Bradley (Florence Briggs Th...   \n",
       "2                             Heikkinen, Miss. Laina   \n",
       "3       Futrelle, Mrs. Jacques Heath (Lily May Peel)   \n",
       "4                           Allen, Mr. William Henry   \n",
       "\n",
       "                                          pre_name  \n",
       "0                            braund mr owen harris  \n",
       "1  cumings mrs john bradley florence briggs thayer  \n",
       "2                             heikkinen miss laina  \n",
       "3         futrelle mrs jacques heath lily may peel  \n",
       "4                           allen mr william henry  "
      ]
     },
     "execution_count": 8,
     "metadata": {},
     "output_type": "execute_result"
    }
   ],
   "source": [
    "df[\"pre_name\"] = df.pre_name.str.lower().str.replace('\\d', '')\n",
    "\n",
    "df.head()"
   ]
  },
  {
   "cell_type": "markdown",
   "metadata": {},
   "source": [
    "**replace()** İsim bilgisi içerisinde ( ) parantezleri kaldıralım."
   ]
  },
  {
   "cell_type": "code",
   "execution_count": 10,
   "metadata": {},
   "outputs": [
    {
     "name": "stderr",
     "output_type": "stream",
     "text": [
      "C:\\Users\\TCAYSAYDIN\\AppData\\Local\\Temp\\ipykernel_26872\\4260743051.py:1: FutureWarning: The default value of regex will change from True to False in a future version. In addition, single character regular expressions will *not* be treated as literal strings when regex=True.\n",
      "  df[\"replace_name\"] = df.Name.str.replace(\"(\", \"\").str.replace(\")\", \"\")\n"
     ]
    },
    {
     "data": {
      "text/html": [
       "<div>\n",
       "<style scoped>\n",
       "    .dataframe tbody tr th:only-of-type {\n",
       "        vertical-align: middle;\n",
       "    }\n",
       "\n",
       "    .dataframe tbody tr th {\n",
       "        vertical-align: top;\n",
       "    }\n",
       "\n",
       "    .dataframe thead th {\n",
       "        text-align: right;\n",
       "    }\n",
       "</style>\n",
       "<table border=\"1\" class=\"dataframe\">\n",
       "  <thead>\n",
       "    <tr style=\"text-align: right;\">\n",
       "      <th></th>\n",
       "      <th>Name</th>\n",
       "      <th>pre_name</th>\n",
       "      <th>replace_name</th>\n",
       "    </tr>\n",
       "  </thead>\n",
       "  <tbody>\n",
       "    <tr>\n",
       "      <th>0</th>\n",
       "      <td>Braund, Mr. Owen Harris</td>\n",
       "      <td>braund mr owen harris</td>\n",
       "      <td>Braund, Mr. Owen Harris</td>\n",
       "    </tr>\n",
       "    <tr>\n",
       "      <th>1</th>\n",
       "      <td>Cumings, Mrs. John Bradley (Florence Briggs Th...</td>\n",
       "      <td>cumings mrs john bradley florence briggs thayer</td>\n",
       "      <td>Cumings, Mrs. John Bradley Florence Briggs Thayer</td>\n",
       "    </tr>\n",
       "    <tr>\n",
       "      <th>2</th>\n",
       "      <td>Heikkinen, Miss. Laina</td>\n",
       "      <td>heikkinen miss laina</td>\n",
       "      <td>Heikkinen, Miss. Laina</td>\n",
       "    </tr>\n",
       "    <tr>\n",
       "      <th>3</th>\n",
       "      <td>Futrelle, Mrs. Jacques Heath (Lily May Peel)</td>\n",
       "      <td>futrelle mrs jacques heath lily may peel</td>\n",
       "      <td>Futrelle, Mrs. Jacques Heath Lily May Peel</td>\n",
       "    </tr>\n",
       "    <tr>\n",
       "      <th>4</th>\n",
       "      <td>Allen, Mr. William Henry</td>\n",
       "      <td>allen mr william henry</td>\n",
       "      <td>Allen, Mr. William Henry</td>\n",
       "    </tr>\n",
       "  </tbody>\n",
       "</table>\n",
       "</div>"
      ],
      "text/plain": [
       "                                                Name  \\\n",
       "0                            Braund, Mr. Owen Harris   \n",
       "1  Cumings, Mrs. John Bradley (Florence Briggs Th...   \n",
       "2                             Heikkinen, Miss. Laina   \n",
       "3       Futrelle, Mrs. Jacques Heath (Lily May Peel)   \n",
       "4                           Allen, Mr. William Henry   \n",
       "\n",
       "                                          pre_name  \\\n",
       "0                            braund mr owen harris   \n",
       "1  cumings mrs john bradley florence briggs thayer   \n",
       "2                             heikkinen miss laina   \n",
       "3         futrelle mrs jacques heath lily may peel   \n",
       "4                           allen mr william henry   \n",
       "\n",
       "                                        replace_name  \n",
       "0                            Braund, Mr. Owen Harris  \n",
       "1  Cumings, Mrs. John Bradley Florence Briggs Thayer  \n",
       "2                             Heikkinen, Miss. Laina  \n",
       "3         Futrelle, Mrs. Jacques Heath Lily May Peel  \n",
       "4                           Allen, Mr. William Henry  "
      ]
     },
     "execution_count": 10,
     "metadata": {},
     "output_type": "execute_result"
    }
   ],
   "source": [
    "df[\"replace_name\"] = df.Name.str.replace(\"(\", \"\").str.replace(\")\", \"\")\n",
    "df.head()"
   ]
  },
  {
   "cell_type": "markdown",
   "metadata": {},
   "source": [
    "**contains():** İsminde William geçen yolcuları listeleyelim."
   ]
  },
  {
   "cell_type": "code",
   "execution_count": 9,
   "metadata": {},
   "outputs": [
    {
     "data": {
      "text/html": [
       "<div>\n",
       "<style scoped>\n",
       "    .dataframe tbody tr th:only-of-type {\n",
       "        vertical-align: middle;\n",
       "    }\n",
       "\n",
       "    .dataframe tbody tr th {\n",
       "        vertical-align: top;\n",
       "    }\n",
       "\n",
       "    .dataframe thead th {\n",
       "        text-align: right;\n",
       "    }\n",
       "</style>\n",
       "<table border=\"1\" class=\"dataframe\">\n",
       "  <thead>\n",
       "    <tr style=\"text-align: right;\">\n",
       "      <th></th>\n",
       "      <th>Name</th>\n",
       "      <th>pre_name</th>\n",
       "    </tr>\n",
       "  </thead>\n",
       "  <tbody>\n",
       "    <tr>\n",
       "      <th>4</th>\n",
       "      <td>Allen, Mr. William Henry</td>\n",
       "      <td>allen mr william henry</td>\n",
       "    </tr>\n",
       "    <tr>\n",
       "      <th>12</th>\n",
       "      <td>Saundercock, Mr. William Henry</td>\n",
       "      <td>saundercock mr william henry</td>\n",
       "    </tr>\n",
       "    <tr>\n",
       "      <th>17</th>\n",
       "      <td>Williams, Mr. Charles Eugene</td>\n",
       "      <td>williams mr charles eugene</td>\n",
       "    </tr>\n",
       "    <tr>\n",
       "      <th>23</th>\n",
       "      <td>Sloper, Mr. William Thompson</td>\n",
       "      <td>sloper mr william thompson</td>\n",
       "    </tr>\n",
       "    <tr>\n",
       "      <th>31</th>\n",
       "      <td>Spencer, Mrs. William Augustus (Marie Eugenie)</td>\n",
       "      <td>spencer mrs william augustus marie eugenie</td>\n",
       "    </tr>\n",
       "    <tr>\n",
       "      <th>...</th>\n",
       "      <td>...</td>\n",
       "      <td>...</td>\n",
       "    </tr>\n",
       "    <tr>\n",
       "      <th>802</th>\n",
       "      <td>Carter, Master. William Thornton II</td>\n",
       "      <td>carter master william thornton ii</td>\n",
       "    </tr>\n",
       "    <tr>\n",
       "      <th>810</th>\n",
       "      <td>Alexander, Mr. William</td>\n",
       "      <td>alexander mr william</td>\n",
       "    </tr>\n",
       "    <tr>\n",
       "      <th>864</th>\n",
       "      <td>Gill, Mr. John William</td>\n",
       "      <td>gill mr john william</td>\n",
       "    </tr>\n",
       "    <tr>\n",
       "      <th>880</th>\n",
       "      <td>Shelley, Mrs. William (Imanita Parrish Hall)</td>\n",
       "      <td>shelley mrs william imanita parrish hall</td>\n",
       "    </tr>\n",
       "    <tr>\n",
       "      <th>885</th>\n",
       "      <td>Rice, Mrs. William (Margaret Norton)</td>\n",
       "      <td>rice mrs william margaret norton</td>\n",
       "    </tr>\n",
       "  </tbody>\n",
       "</table>\n",
       "<p>69 rows × 2 columns</p>\n",
       "</div>"
      ],
      "text/plain": [
       "                                               Name  \\\n",
       "4                          Allen, Mr. William Henry   \n",
       "12                   Saundercock, Mr. William Henry   \n",
       "17                     Williams, Mr. Charles Eugene   \n",
       "23                     Sloper, Mr. William Thompson   \n",
       "31   Spencer, Mrs. William Augustus (Marie Eugenie)   \n",
       "..                                              ...   \n",
       "802             Carter, Master. William Thornton II   \n",
       "810                          Alexander, Mr. William   \n",
       "864                          Gill, Mr. John William   \n",
       "880    Shelley, Mrs. William (Imanita Parrish Hall)   \n",
       "885            Rice, Mrs. William (Margaret Norton)   \n",
       "\n",
       "                                       pre_name  \n",
       "4                        allen mr william henry  \n",
       "12                 saundercock mr william henry  \n",
       "17                   williams mr charles eugene  \n",
       "23                   sloper mr william thompson  \n",
       "31   spencer mrs william augustus marie eugenie  \n",
       "..                                          ...  \n",
       "802           carter master william thornton ii  \n",
       "810                        alexander mr william  \n",
       "864                        gill mr john william  \n",
       "880    shelley mrs william imanita parrish hall  \n",
       "885            rice mrs william margaret norton  \n",
       "\n",
       "[69 rows x 2 columns]"
      ]
     },
     "execution_count": 9,
     "metadata": {},
     "output_type": "execute_result"
    }
   ],
   "source": [
    "df[df.pre_name.str.contains('william')]"
   ]
  },
  {
   "cell_type": "markdown",
   "metadata": {},
   "source": [
    "**duplicated()**\n",
    "\n",
    "Veri analizinin önemli bir parçası da veri setinde yer alan tekrarlı verileri kaldırmaktır."
   ]
  },
  {
   "cell_type": "code",
   "execution_count": 18,
   "metadata": {},
   "outputs": [
    {
     "data": {
      "text/plain": [
       "0      False\n",
       "1      False\n",
       "2      False\n",
       "3      False\n",
       "4      False\n",
       "       ...  \n",
       "886    False\n",
       "887    False\n",
       "888    False\n",
       "889    False\n",
       "890    False\n",
       "Name: pre_name, Length: 891, dtype: bool"
      ]
     },
     "execution_count": 18,
     "metadata": {},
     "output_type": "execute_result"
    }
   ],
   "source": [
    "df.pre_name.duplicated()"
   ]
  },
  {
   "cell_type": "code",
   "execution_count": 16,
   "metadata": {},
   "outputs": [
    {
     "data": {
      "text/plain": [
       "0"
      ]
     },
     "execution_count": 16,
     "metadata": {},
     "output_type": "execute_result"
    }
   ],
   "source": [
    "df.pre_name.duplicated().sum()"
   ]
  },
  {
   "cell_type": "markdown",
   "metadata": {},
   "source": [
    "**drop_duplicates()**\n",
    "\n",
    "Yinelenen satırları drop_duplicates() metodu ile kaldırabiliriz. Name ve pre_name sütunları baz alınarak yinelenen satırları kaldıralım."
   ]
  },
  {
   "cell_type": "code",
   "execution_count": null,
   "metadata": {},
   "outputs": [],
   "source": [
    "df.drop_duplicates(subset=[\"Name\", \"pre_name\"], keep=\"first\", inplace=True)\n",
    "\n",
    "df.head()"
   ]
  },
  {
   "cell_type": "markdown",
   "metadata": {},
   "source": [
    "Burada **subset** metodu işlem yapacağımız sütunları belirlememizi sağlıyor."
   ]
  }
 ],
 "metadata": {
  "kernelspec": {
   "display_name": "Python 3.8.5 ('base')",
   "language": "python",
   "name": "python3"
  },
  "language_info": {
   "codemirror_mode": {
    "name": "ipython",
    "version": 3
   },
   "file_extension": ".py",
   "mimetype": "text/x-python",
   "name": "python",
   "nbconvert_exporter": "python",
   "pygments_lexer": "ipython3",
   "version": "3.8.5"
  },
  "orig_nbformat": 4,
  "vscode": {
   "interpreter": {
    "hash": "85849ef95885899d47daeff0f578b9f8af82a26ba4d539bff16a3c227f835db9"
   }
  }
 },
 "nbformat": 4,
 "nbformat_minor": 2
}
