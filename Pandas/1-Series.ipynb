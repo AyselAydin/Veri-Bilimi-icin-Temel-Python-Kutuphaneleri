{
 "cells": [
  {
   "cell_type": "markdown",
   "metadata": {},
   "source": [
    "* Pandas, Numpy’ın sütun adları ve homojen olmayan verilerle çalışamama gibi eksik kaldığı kısımlara ve daha fazlasına çözümler üreten Python programlama dili için yüksek performanslı, kullanımı kolay veri yapıları ve veri analiz araçları sağlayan açık kaynaklı bir kütüphanedir.\n",
    "\n",
    "* ‘.csv’ ve ‘.txt’ uzantılı dosyaları açmak ve içerisinde bulunan verileri okuyarak istenen sonuca kolayca ulaşmak için kullanılmaktadır.\n",
    "* Pandas tarafından hazırlanan veriler genellikle Matplotlib’in fonksiyonlarını çizmek, SciPy’de istatistiksel analiz ve Scikit-learn’de makine öğrenme algoritmaları için girdi verileri olarak kullanılır."
   ]
  },
  {
   "cell_type": "markdown",
   "metadata": {},
   "source": [
    "**Seriler**\n",
    "\n",
    "Herhangi bir veri tipinde veri tutabilen tek boyutlu etiketli bir dizidir. Bir başka deyişle bir excel dosyasındaki bir sütunu temsil ederler. Serileri oluşturmak için listeler, sıralı diziler ya da sözlükler kullanılabilir."
   ]
  },
  {
   "cell_type": "markdown",
   "metadata": {},
   "source": [
    "Pandas kütüphanesi Python dilinin doğrudan bir parçası değildir. Bu yüzden ayrıca kurulması ve program içerisinde tanımlanması yani import edilmesi gerekmektedir.\n",
    "\n",
    "pip install pandas"
   ]
  },
  {
   "cell_type": "code",
   "execution_count": 10,
   "metadata": {},
   "outputs": [],
   "source": [
    "import pandas as pd"
   ]
  },
  {
   "cell_type": "markdown",
   "metadata": {},
   "source": [
    "Boş Bir Seri Oluşturma"
   ]
  },
  {
   "cell_type": "code",
   "execution_count": 2,
   "metadata": {},
   "outputs": [
    {
     "name": "stdout",
     "output_type": "stream",
     "text": [
      "Series([], dtype: float64)\n"
     ]
    },
    {
     "name": "stderr",
     "output_type": "stream",
     "text": [
      "C:\\Users\\TCAYSAYDIN\\AppData\\Local\\Temp\\ipykernel_5924\\873542836.py:1: DeprecationWarning: The default dtype for empty Series will be 'object' instead of 'float64' in a future version. Specify a dtype explicitly to silence this warning.\n",
      "  seri = pd.Series()\n"
     ]
    }
   ],
   "source": [
    "seri = pd.Series()\n",
    "print(seri)"
   ]
  },
  {
   "cell_type": "markdown",
   "metadata": {},
   "source": [
    "Boş bir seri oluşturursanız default veri tipi float olarak kabul edilir."
   ]
  },
  {
   "cell_type": "markdown",
   "metadata": {},
   "source": [
    "**Listeler ile Seri Oluşturma (Index değerleri ile)**"
   ]
  },
  {
   "cell_type": "code",
   "execution_count": 3,
   "metadata": {},
   "outputs": [
    {
     "name": "stdout",
     "output_type": "stream",
     "text": [
      "elma        320\n",
      "çikolata    450\n",
      "kavun       140\n",
      "ekmek        56\n",
      "dtype: int64\n"
     ]
    }
   ],
   "source": [
    "calories = pd.Series([320, 450, 140, 56], [\"elma\", \"çikolata\", \"kavun\", \"ekmek\"])\n",
    "print(calories)"
   ]
  },
  {
   "cell_type": "markdown",
   "metadata": {},
   "source": [
    "Serilerde ilk sütunda indeksler, ikinci sütunda ise verilerimiz yer alır. İndex değerlerini özellikle belirttiğimizde 0'dan başlayıp n adet veri için n-1'e gitmeden bizim verdiğimiz değerleri alacaktır."
   ]
  },
  {
   "cell_type": "markdown",
   "metadata": {},
   "source": [
    "Serilerde indeks ve veri değerlerini ayrı ayrı yazdıralım."
   ]
  },
  {
   "cell_type": "code",
   "execution_count": 4,
   "metadata": {},
   "outputs": [
    {
     "name": "stdout",
     "output_type": "stream",
     "text": [
      "Verilerimiz : [320 450 140  56]\n",
      "İndeksler: Index(['elma', 'çikolata', 'kavun', 'ekmek'], dtype='object')\n"
     ]
    }
   ],
   "source": [
    "print('Verilerimiz :', calories.values)\n",
    "print('İndeksler:', calories.index)"
   ]
  },
  {
   "cell_type": "markdown",
   "metadata": {},
   "source": [
    "Seri bilgilerini NumPy kütüphanesinde de kullandığımız metodlar ile öğrenebiliriz."
   ]
  },
  {
   "cell_type": "code",
   "execution_count": 5,
   "metadata": {},
   "outputs": [
    {
     "name": "stdout",
     "output_type": "stream",
     "text": [
      "Şekli: (4,)\n",
      "Boyutu:  1\n",
      "Eleman sayısı  4\n"
     ]
    }
   ],
   "source": [
    "print('Şekli:', calories.shape)\n",
    "print('Boyutu: ', calories.ndim)\n",
    "print('Eleman sayısı ', calories.size)"
   ]
  },
  {
   "cell_type": "markdown",
   "metadata": {},
   "source": [
    "Çok büyük bir Pandas Serisiyle uğraşıyorsak ve bir indeksin olup olmadığından emin değilsek in komutu kullanarak kontrol edebiliriz."
   ]
  },
  {
   "cell_type": "code",
   "execution_count": 6,
   "metadata": {},
   "outputs": [
    {
     "name": "stdout",
     "output_type": "stream",
     "text": [
      "Armut:  False\n",
      "Ekmek:  True\n"
     ]
    }
   ],
   "source": [
    "x = 'armut' in calories\n",
    "y = 'ekmek' in calories\n",
    "print('Armut: ', x)\n",
    "print('Ekmek: ', y)"
   ]
  },
  {
   "cell_type": "markdown",
   "metadata": {},
   "source": [
    "**Listeler ile Seri Oluşturma-2(Index değerleri olmadan)**"
   ]
  },
  {
   "cell_type": "code",
   "execution_count": 7,
   "metadata": {},
   "outputs": [
    {
     "name": "stdout",
     "output_type": "stream",
     "text": [
      "0    A\n",
      "1    T\n",
      "dtype: object\n"
     ]
    }
   ],
   "source": [
    "char_list = [\"A\", \"T\"]\n",
    "seri= pd.Series(char_list)\n",
    "print(seri)"
   ]
  },
  {
   "cell_type": "markdown",
   "metadata": {},
   "source": [
    "Gördüğünüz gibi özellikle bir index belirlemezsek index değerleri 0'dan başlayacak şekilde oluşturulur."
   ]
  },
  {
   "cell_type": "markdown",
   "metadata": {},
   "source": [
    "**Dictionary ile Seri Oluşturma**"
   ]
  },
  {
   "cell_type": "code",
   "execution_count": 8,
   "metadata": {},
   "outputs": [
    {
     "name": "stdout",
     "output_type": "stream",
     "text": [
      "Türkiye    Ankara\n",
      "Fransa      Paris\n",
      "Almanya    Berlin\n",
      "İtalya       Roma\n",
      "dtype: object\n"
     ]
    }
   ],
   "source": [
    "capitals_dict = {\"Türkiye\":\"Ankara\", \"Fransa\":\"Paris\", \"Almanya\":\"Berlin\", \"İtalya\":\"Roma\"}\n",
    "capitals = pd.Series(capitals_dict)\n",
    "print(capitals)"
   ]
  },
  {
   "cell_type": "markdown",
   "metadata": {},
   "source": [
    "**NumPy Dizisi ile Seri Oluşturma**"
   ]
  },
  {
   "cell_type": "code",
   "execution_count": 11,
   "metadata": {},
   "outputs": [
    {
     "name": "stdout",
     "output_type": "stream",
     "text": [
      "0             The Office\n",
      "1    The Big Bang Theory\n",
      "2                Friends\n",
      "3             Doctor Who\n",
      "4     Person of Interest\n",
      "Name: Diziler, dtype: object\n"
     ]
    }
   ],
   "source": [
    "import numpy as np\n",
    "\n",
    "nd_array = np.array([\"The Office\", \"The Big Bang Theory\", \"Friends\", \"Doctor Who\", \"Person of Interest\"])\n",
    "movies = pd.Series(nd_array, name=\"Diziler\")\n",
    "print(movies)"
   ]
  },
  {
   "cell_type": "markdown",
   "metadata": {},
   "source": [
    "**NumPy Metotları ile Seri Oluşturma**"
   ]
  },
  {
   "cell_type": "code",
   "execution_count": 12,
   "metadata": {},
   "outputs": [
    {
     "name": "stdout",
     "output_type": "stream",
     "text": [
      "0     1.00\n",
      "1     9.75\n",
      "2    18.50\n",
      "3    27.25\n",
      "4    36.00\n",
      "dtype: float64\n"
     ]
    }
   ],
   "source": [
    "seri = pd.Series(np.linspace(1, 36, 5))\n",
    "print(seri)"
   ]
  },
  {
   "cell_type": "markdown",
   "metadata": {},
   "source": [
    "NumPy kütüphanesini ele alırken gördüğümüz linspace metodu ile 1–36 arasında eşit mesafede 5 sayı oluşturmuş olduk."
   ]
  },
  {
   "cell_type": "markdown",
   "metadata": {},
   "source": [
    "**Liste Comprehension ile Seri Oluşturma**"
   ]
  },
  {
   "cell_type": "code",
   "execution_count": 14,
   "metadata": {},
   "outputs": [
    {
     "name": "stdout",
     "output_type": "stream",
     "text": [
      "a     1\n",
      "b     6\n",
      "c    11\n",
      "d    16\n",
      "e    21\n",
      "f    26\n",
      "dtype: int64\n"
     ]
    }
   ],
   "source": [
    "seri = pd.Series(range(1,30,5), index=[i for i in \"abcdef\"])\n",
    "print(seri)"
   ]
  },
  {
   "cell_type": "markdown",
   "metadata": {},
   "source": [
    "**Seri Elemanlarına Erişim**"
   ]
  },
  {
   "cell_type": "code",
   "execution_count": 15,
   "metadata": {},
   "outputs": [
    {
     "name": "stdout",
     "output_type": "stream",
     "text": [
      "Kotlin\n"
     ]
    }
   ],
   "source": [
    "languages = pd.Series([\"Python\", \"Kotlin\", \"Dart\", \"Java\"])\n",
    "print(languages[1])"
   ]
  },
  {
   "cell_type": "markdown",
   "metadata": {},
   "source": [
    "Index değerlerini vermiş olsaydık o değerler üzerinden de erişebilirdik."
   ]
  },
  {
   "cell_type": "code",
   "execution_count": 16,
   "metadata": {},
   "outputs": [
    {
     "data": {
      "text/plain": [
       "'Kotlin'"
      ]
     },
     "execution_count": 16,
     "metadata": {},
     "output_type": "execute_result"
    }
   ],
   "source": [
    "languages.index = ['lang1', 'lang2', 'lang3', 'lang4']\n",
    "languages[\"lang2\"]"
   ]
  },
  {
   "cell_type": "markdown",
   "metadata": {},
   "source": [
    "Birden fazla değere ulaşmak istersek index değerlerini seçebiliriz."
   ]
  },
  {
   "cell_type": "code",
   "execution_count": 17,
   "metadata": {},
   "outputs": [
    {
     "data": {
      "text/plain": [
       "lang2    Kotlin\n",
       "lang4      Java\n",
       "dtype: object"
      ]
     },
     "execution_count": 17,
     "metadata": {},
     "output_type": "execute_result"
    }
   ],
   "source": [
    "languages[[\"lang2\", \"lang4\"]]"
   ]
  },
  {
   "cell_type": "markdown",
   "metadata": {},
   "source": [
    "Indexleme işlemi ile başlangıç bitiş indekslerini belirterek de istediğimiz değerlere ulaşabiliriz."
   ]
  },
  {
   "cell_type": "code",
   "execution_count": 18,
   "metadata": {},
   "outputs": [
    {
     "data": {
      "text/plain": [
       "lang2    Kotlin\n",
       "lang3      Dart\n",
       "lang4      Java\n",
       "dtype: object"
      ]
     },
     "execution_count": 18,
     "metadata": {},
     "output_type": "execute_result"
    }
   ],
   "source": [
    "languages[\"lang2\":\"lang4\"]"
   ]
  },
  {
   "cell_type": "markdown",
   "metadata": {},
   "source": [
    "**Serilerde Koşullu Seçimler**\n",
    "\n",
    "Serilerde NumPy arraylerdeki gibi bir koşul ifadesiyle seçim yapabiliriz."
   ]
  },
  {
   "cell_type": "code",
   "execution_count": 19,
   "metadata": {},
   "outputs": [
    {
     "data": {
      "text/plain": [
       "elma        320\n",
       "çikolata    450\n",
       "kavun       140\n",
       "Name: Kalori Değerleri, dtype: int64"
      ]
     },
     "execution_count": 19,
     "metadata": {},
     "output_type": "execute_result"
    }
   ],
   "source": [
    "calories = pd.Series([320, 450, 140, 56], [\"elma\", \"çikolata\", \"kavun\", \"ekmek\"], name=\"Kalori Değerleri\")\n",
    "calories[calories > 100]"
   ]
  },
  {
   "cell_type": "markdown",
   "metadata": {},
   "source": [
    "Burada **calories[calories > 100]** yerine direkt **calories > 100** kullandığımız durumda değerler yerine True False şeklinde dönüş yapacaktı."
   ]
  },
  {
   "cell_type": "code",
   "execution_count": 21,
   "metadata": {},
   "outputs": [
    {
     "data": {
      "text/plain": [
       "elma         True\n",
       "çikolata     True\n",
       "kavun        True\n",
       "ekmek       False\n",
       "Name: Kalori Değerleri, dtype: bool"
      ]
     },
     "execution_count": 21,
     "metadata": {},
     "output_type": "execute_result"
    }
   ],
   "source": [
    "calories > 100"
   ]
  },
  {
   "cell_type": "markdown",
   "metadata": {},
   "source": [
    "NumPy kütüphanesini anlatırken bahsettiğimiz mean, standart sapma, varyans metotlarını Pandasta da kullanabiliriz."
   ]
  },
  {
   "cell_type": "code",
   "execution_count": 22,
   "metadata": {},
   "outputs": [
    {
     "data": {
      "text/plain": [
       "kavun    140\n",
       "ekmek     56\n",
       "Name: Kalori Değerleri, dtype: int64"
      ]
     },
     "execution_count": 22,
     "metadata": {},
     "output_type": "execute_result"
    }
   ],
   "source": [
    "calories[calories < calories.mean()]"
   ]
  },
  {
   "cell_type": "markdown",
   "metadata": {},
   "source": [
    "Bu şekilde kalori değeri ortalamadan küçük olan verileri almış olduk."
   ]
  },
  {
   "cell_type": "markdown",
   "metadata": {},
   "source": [
    "Birden fazla koşul eklemek istediğimiz durumda & operatörü ile iki koşul ifadesini ekleyebiliriz."
   ]
  },
  {
   "cell_type": "code",
   "execution_count": 23,
   "metadata": {},
   "outputs": [
    {
     "data": {
      "text/plain": [
       "kavun    140\n",
       "Name: Kalori Değerleri, dtype: int64"
      ]
     },
     "execution_count": 23,
     "metadata": {},
     "output_type": "execute_result"
    }
   ],
   "source": [
    "calories[(calories > 100) & (calories < 200)]"
   ]
  },
  {
   "cell_type": "markdown",
   "metadata": {},
   "source": [
    "**Seri Değerlerini Değiştirme**\n",
    "\n",
    "Seride istediğimiz değerleri indexle erişip değiştirebiliriz."
   ]
  },
  {
   "cell_type": "code",
   "execution_count": 25,
   "metadata": {},
   "outputs": [
    {
     "data": {
      "text/plain": [
       "elma        320\n",
       "çikolata    450\n",
       "kavun       140\n",
       "ekmek        96\n",
       "Name: Kalori Değerleri, dtype: int64"
      ]
     },
     "execution_count": 25,
     "metadata": {},
     "output_type": "execute_result"
    }
   ],
   "source": [
    "calories[\"ekmek\"] = 96\n",
    "\n",
    "calories"
   ]
  },
  {
   "cell_type": "markdown",
   "metadata": {},
   "source": [
    "Koşullu ifadeye bağlı olarak kriteri sağlayan değerleri de güncelleyebiliriz."
   ]
  },
  {
   "cell_type": "code",
   "execution_count": 26,
   "metadata": {},
   "outputs": [
    {
     "data": {
      "text/plain": [
       "elma        320\n",
       "çikolata    450\n",
       "kavun       120\n",
       "ekmek       120\n",
       "Name: Kalori Değerleri, dtype: int64"
      ]
     },
     "execution_count": 26,
     "metadata": {},
     "output_type": "execute_result"
    }
   ],
   "source": [
    "calories[calories < 150 ] = 120\n",
    "calories"
   ]
  },
  {
   "cell_type": "markdown",
   "metadata": {},
   "source": [
    "Seriler üzerinde Add-Sub işlemleri"
   ]
  },
  {
   "cell_type": "code",
   "execution_count": 27,
   "metadata": {},
   "outputs": [
    {
     "data": {
      "text/plain": [
       "a    7.0\n",
       "b    NaN\n",
       "c    NaN\n",
       "d    9.0\n",
       "f    NaN\n",
       "g    NaN\n",
       "dtype: float64"
      ]
     },
     "execution_count": 27,
     "metadata": {},
     "output_type": "execute_result"
    }
   ],
   "source": [
    "data = pd.Series([1, 2, 3, 4], index=['a', 'b', 'c', 'd'])\n",
    "data1 = pd.Series([5, 6, 7, 8], index=['d', 'a', 'f', 'g'])\n",
    "data.add(data1)"
   ]
  },
  {
   "cell_type": "markdown",
   "metadata": {},
   "source": [
    "Burada iki seride de aynı indexle yer alan değerleri topladı. Diğer indexleri de NaN olarak gösterdi. NaN değerleri yerine eğer ekleme sırasında , fill_value=0 eklersek olmayan indexler için 0 değerini kabul eder ve toplama işlemini ona göre yapar."
   ]
  },
  {
   "cell_type": "code",
   "execution_count": 28,
   "metadata": {},
   "outputs": [
    {
     "data": {
      "text/plain": [
       "a    7.0\n",
       "b    2.0\n",
       "c    3.0\n",
       "d    9.0\n",
       "f    7.0\n",
       "g    8.0\n",
       "dtype: float64"
      ]
     },
     "execution_count": 28,
     "metadata": {},
     "output_type": "execute_result"
    }
   ],
   "source": [
    "data.add(data1, fill_value=0)"
   ]
  },
  {
   "cell_type": "markdown",
   "metadata": {},
   "source": [
    "Aynı işlem sub metodu için de geçerlidir."
   ]
  },
  {
   "cell_type": "code",
   "execution_count": 29,
   "metadata": {},
   "outputs": [
    {
     "data": {
      "text/plain": [
       "a   -5.0\n",
       "b    2.0\n",
       "c    3.0\n",
       "d   -1.0\n",
       "f   -7.0\n",
       "g   -8.0\n",
       "dtype: float64"
      ]
     },
     "execution_count": 29,
     "metadata": {},
     "output_type": "execute_result"
    }
   ],
   "source": [
    "data.sub(data1, fill_value=0)"
   ]
  },
  {
   "cell_type": "markdown",
   "metadata": {},
   "source": [
    "**Serilerde Dönüştürme(conversion) İşlemleri**\n",
    "\n",
    "Serilerin veri tipini değiştirebilir ya da bir seriyi listeye dönüştürme gibi işlemler yapabiliriz. Bu işlemler için .astype() .tolist() gibi metotları kullanırız."
   ]
  },
  {
   "cell_type": "code",
   "execution_count": 30,
   "metadata": {},
   "outputs": [
    {
     "name": "stdout",
     "output_type": "stream",
     "text": [
      "Orijinal Hali:\n",
      " 0    9\n",
      "1    6\n",
      "2    3\n",
      "dtype: int64\n",
      "Veri tipi değiştirilmiş hali:\n",
      " 0    9.0\n",
      "1    6.0\n",
      "2    3.0\n",
      "dtype: float64\n"
     ]
    }
   ],
   "source": [
    "num = pd.Series([9, 6, 3])\n",
    "print(\"Orijinal Hali:\\n\", num)\n",
    "num = num.astype(float)\n",
    "print(\"Veri tipi değiştirilmiş hali:\\n\", num)"
   ]
  },
  {
   "cell_type": "markdown",
   "metadata": {},
   "source": [
    "Seriyi listeye dönüştürelim."
   ]
  },
  {
   "cell_type": "code",
   "execution_count": 31,
   "metadata": {},
   "outputs": [
    {
     "name": "stdout",
     "output_type": "stream",
     "text": [
      "Listeye dönüştürülmüş hali\n",
      " [9.0, 6.0, 3.0]\n"
     ]
    }
   ],
   "source": [
    "num_list = num.tolist()\n",
    "print(\"Listeye dönüştürülmüş hali\\n\", num_list)"
   ]
  }
 ],
 "metadata": {
  "kernelspec": {
   "display_name": "Python 3.8.5 ('base')",
   "language": "python",
   "name": "python3"
  },
  "language_info": {
   "codemirror_mode": {
    "name": "ipython",
    "version": 3
   },
   "file_extension": ".py",
   "mimetype": "text/x-python",
   "name": "python",
   "nbconvert_exporter": "python",
   "pygments_lexer": "ipython3",
   "version": "3.8.5"
  },
  "orig_nbformat": 4,
  "vscode": {
   "interpreter": {
    "hash": "85849ef95885899d47daeff0f578b9f8af82a26ba4d539bff16a3c227f835db9"
   }
  }
 },
 "nbformat": 4,
 "nbformat_minor": 2
}
